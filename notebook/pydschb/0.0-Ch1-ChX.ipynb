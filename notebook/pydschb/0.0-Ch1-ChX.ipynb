{
 "cells": [
  {
   "cell_type": "markdown",
   "metadata": {},
   "source": [
    "#### Python Data Science Handbook"
   ]
  },
  {
   "cell_type": "markdown",
   "metadata": {},
   "source": [
    "##### Ipython ShortCuts\n",
    "* len? - prints documentation\n",
    "* len?? - prints source code if present, else documentation\n",
    "* \"*Warning?\" - print everthing that contains \"Warning\"\n",
    "* %paste - paste python code with indentation (doesn't print prompt characters)\n",
    "* %cpaste - opens up multi line prompt\n",
    "* %run - run external command like %run myscript.sh\n",
    "* %timeit - determins the execution time of a single line python statement like %timeit L = [x for x in range(10)]\n",
    "* %%timeit - timeit for multi-line statements\n",
    "* In/Out - list of all the input and output objects,\n",
    "* _ and __ - previous and one before previous output\n",
    "* %xmode Verbose - detailed error trace printing."
   ]
  },
  {
   "cell_type": "code",
   "execution_count": 2,
   "metadata": {
    "collapsed": true
   },
   "outputs": [],
   "source": []
  },
  {
   "cell_type": "code",
   "execution_count": null,
   "metadata": {
    "collapsed": true
   },
   "outputs": [],
   "source": []
  }
 ],
 "metadata": {
  "kernelspec": {
   "display_name": "Python 2",
   "language": "python",
   "name": "python2"
  },
  "language_info": {
   "codemirror_mode": {
    "name": "ipython",
    "version": 2
   },
   "file_extension": ".py",
   "mimetype": "text/x-python",
   "name": "python",
   "nbconvert_exporter": "python",
   "pygments_lexer": "ipython2",
   "version": "2.7.13"
  }
 },
 "nbformat": 4,
 "nbformat_minor": 2
}
